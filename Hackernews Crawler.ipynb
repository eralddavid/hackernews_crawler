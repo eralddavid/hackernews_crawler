{
 "cells": [
  {
   "cell_type": "code",
   "execution_count": 1,
   "id": "7472bbb2",
   "metadata": {},
   "outputs": [],
   "source": [
    "import pandas as pd\n",
    "from google.cloud import bigquery"
   ]
  },
  {
   "cell_type": "code",
   "execution_count": 2,
   "id": "131688d2",
   "metadata": {},
   "outputs": [],
   "source": [
    "import os\n",
    "os.environ[\"GOOGLE_APPLICATION_CREDENTIALS\"]=\"/home/lasbon-image/Eraldds/Self-Project/hackernews_crawler/kudo-wa-chatbot-55a65a8a2335.json\""
   ]
  },
  {
   "cell_type": "code",
   "execution_count": 3,
   "id": "5f3c4346",
   "metadata": {},
   "outputs": [],
   "source": [
    "# variables\n",
    "gcp_project = \"bigquery-public-data\"\n",
    "bq_dataset = \"hacker_news\""
   ]
  },
  {
   "cell_type": "code",
   "execution_count": 4,
   "id": "be1eccdf",
   "metadata": {
    "scrolled": true
   },
   "outputs": [],
   "source": [
    "# connections\n",
    "client = bigquery.Client(project=gcp_project)\n",
    "dataset_ref = client.dataset(bq_dataset)"
   ]
  },
  {
   "cell_type": "code",
   "execution_count": 5,
   "id": "325e0a91",
   "metadata": {},
   "outputs": [],
   "source": [
    "# results to dataframe function\n",
    "def gcp2df(sql):\n",
    "    query = client.query(sql)\n",
    "    results = query.result()\n",
    "    return results.to_dataframe()"
   ]
  },
  {
   "cell_type": "code",
   "execution_count": null,
   "id": "cbfda537",
   "metadata": {},
   "outputs": [],
   "source": [
    "# Get yesterday all comments\n",
    "query = "
   ]
  },
  {
   "cell_type": "code",
   "execution_count": null,
   "id": "beb9d3ac",
   "metadata": {},
   "outputs": [],
   "source": []
  },
  {
   "cell_type": "code",
   "execution_count": null,
   "id": "bc76b8d2",
   "metadata": {},
   "outputs": [],
   "source": []
  }
 ],
 "metadata": {
  "kernelspec": {
   "display_name": "Python 3",
   "language": "python",
   "name": "python3"
  },
  "language_info": {
   "codemirror_mode": {
    "name": "ipython",
    "version": 3
   },
   "file_extension": ".py",
   "mimetype": "text/x-python",
   "name": "python",
   "nbconvert_exporter": "python",
   "pygments_lexer": "ipython3",
   "version": "3.6.9"
  }
 },
 "nbformat": 4,
 "nbformat_minor": 5
}
